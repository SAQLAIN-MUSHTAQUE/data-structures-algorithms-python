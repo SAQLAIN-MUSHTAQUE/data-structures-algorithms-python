{
 "cells": [
  {
   "cell_type": "code",
   "execution_count": 28,
   "metadata": {},
   "outputs": [
    {
     "name": "stdout",
     "output_type": "stream",
     "text": [
      "Invalid temperature.Ignore the row\n",
      "{'Jan 1': 27.0, 'Jan 2': 31.0, 'Jan 3': 23.0, 'Jan 4': 34.0, 'Jan 5': 37.0, 'Jan 6': 38.0, 'Jan 7': 29.0, 'Jan 8': 30.0, 'Jan 9': 35.0, 'Jan 10': 3.0}\n"
     ]
    }
   ],
   "source": [
    "weather = {}\n",
    "with open(\"E:\\\\Saqlain's folder\\\\PY_DataStructures\\\\data-structures-algorithms-python\\\\data_structures\\\\4_HashTable_2_Collisions\\\\Solution\\\\nyc_weather.csv\", \"r\") as f:\n",
    "    for line in f:\n",
    "        row = line.split(\",\")\n",
    "        day = row[0]\n",
    "        try:\n",
    "            temperature = row[1][:-1]\n",
    "            weather[day]=float(temperature)\n",
    "        except:\n",
    "            print(\"Invalid temperature.Ignore the row\")\n",
    "\n",
    "print (weather)"
   ]
  },
  {
   "cell_type": "markdown",
   "metadata": {},
   "source": [
    "#### Average\n"
   ]
  },
  {
   "cell_type": "code",
   "execution_count": 29,
   "metadata": {},
   "outputs": [
    {
     "name": "stdout",
     "output_type": "stream",
     "text": [
      "31.0\n"
     ]
    }
   ],
   "source": [
    "average = int()\n",
    "for i in range(1,8):\n",
    "    average += weather[f'Jan {i}']\n",
    "print (average//7)"
   ]
  },
  {
   "cell_type": "markdown",
   "metadata": {},
   "source": [
    "#### Maximum Temperature"
   ]
  },
  {
   "cell_type": "code",
   "execution_count": 30,
   "metadata": {},
   "outputs": [
    {
     "name": "stdout",
     "output_type": "stream",
     "text": [
      "38.0\n"
     ]
    }
   ],
   "source": [
    "Max = []\n",
    "for i in range(1,11):\n",
    "    Max.append(weather[f'Jan {i}'])\n",
    "\n",
    "print (max(Max))"
   ]
  }
 ],
 "metadata": {
  "kernelspec": {
   "display_name": ".venv",
   "language": "python",
   "name": "python3"
  },
  "language_info": {
   "codemirror_mode": {
    "name": "ipython",
    "version": 3
   },
   "file_extension": ".py",
   "mimetype": "text/x-python",
   "name": "python",
   "nbconvert_exporter": "python",
   "pygments_lexer": "ipython3",
   "version": "3.11.3"
  },
  "orig_nbformat": 4
 },
 "nbformat": 4,
 "nbformat_minor": 2
}
